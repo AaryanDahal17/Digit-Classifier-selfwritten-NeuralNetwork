{
 "cells": [
  {
   "cell_type": "code",
   "execution_count": 1,
   "id": "8783eab8-095b-4b65-8fd3-a304745e2a34",
   "metadata": {},
   "outputs": [
    {
     "name": "stdout",
     "output_type": "stream",
     "text": [
      "WARNING:tensorflow:From C:\\Users\\DELL\\AppData\\Local\\Programs\\Python\\Python311\\Lib\\site-packages\\keras\\src\\losses.py:2976: The name tf.losses.sparse_softmax_cross_entropy is deprecated. Please use tf.compat.v1.losses.sparse_softmax_cross_entropy instead.\n",
      "\n"
     ]
    }
   ],
   "source": [
    "import numpy as np\n",
    "from matplotlib import pyplot as plt\n",
    "import tensorflow as tf                                   # To load dataset"
   ]
  },
  {
   "cell_type": "code",
   "execution_count": 2,
   "id": "1197f181-0c90-4f22-8d0d-4128d6a9d318",
   "metadata": {},
   "outputs": [],
   "source": [
    "(x_train,y_train),(x_test,y_test) = tf.keras.datasets.mnist.load_data()"
   ]
  },
  {
   "cell_type": "code",
   "execution_count": 3,
   "id": "679e1eb3-342b-4e79-88fe-04fb6028f5aa",
   "metadata": {},
   "outputs": [
    {
     "name": "stdout",
     "output_type": "stream",
     "text": [
      "(60000, 28, 28)\n",
      "(60000,)\n"
     ]
    }
   ],
   "source": [
    "print(x_train.shape)\n",
    "print(y_train.shape)"
   ]
  },
  {
   "cell_type": "code",
   "execution_count": 4,
   "id": "d31ae31a-c4bc-4c95-a34b-3e7ee11d761e",
   "metadata": {},
   "outputs": [
    {
     "data": {
      "image/png": "[encoded data removed]",
      "text/plain": [
       "<Figure size 1000x100 with 5 Axes>"
      ]
     },
     "metadata": {},
     "output_type": "display_data"
    }
   ],
   "source": [
    "plt.figure(figsize=(10, 1))\n",
    "for i in range(5):\n",
    "    rand_indx = np.random.randint(1000)\n",
    "    plt.subplot(1,5,i+1)\n",
    "    plt.imshow(x_train[rand_indx],cmap = 'gray')\n",
    "    "
   ]
  },
  {
   "cell_type": "code",
   "execution_count": 5,
   "id": "90badbdd-9775-41ae-916c-d8a1789163e4",
   "metadata": {},
   "outputs": [],
   "source": [
    "x_train_og = x_train\n",
    "x_test_og = x_test\n",
    "\n",
    "x_train = x_train / 255\n",
    "x_test = x_test / 255"
   ]
  },
  {
   "cell_type": "code",
   "execution_count": 6,
   "id": "1112dfaf-6b5e-4436-b179-44bb1802527f",
   "metadata": {},
   "outputs": [],
   "source": [
    "input_size = 784                        # 28 * 28 image has 784 pixels in total\n",
    "numOfLayers = 3\n",
    "layer1_numOfNeurons = 64\n",
    "layer2_numOfNeurons = 64\n",
    "layer3_numOfNeurons = 10                # 10 classifications to be made"
   ]
  },
  {
   "cell_type": "code",
   "execution_count": 7,
   "id": "4d6883d7-7c92-4ac7-a085-eed962d1bc3f",
   "metadata": {},
   "outputs": [],
   "source": [
    "l1_weights = np.random.rand(input_size,layer1_numOfNeurons)  * 0.01           #weights of a layer are of dimension num of activations * num of units\n",
    "l2_weights = np.random.rand(layer1_numOfNeurons,layer2_numOfNeurons)  * 0.01  #every column in weight matrix represents the weights of a neuron\n",
    "l3_weights = np.random.rand(layer2_numOfNeurons,layer3_numOfNeurons) * 0.01\n",
    "\n",
    "l1_biases = np.random.rand(layer1_numOfNeurons)\n",
    "l2_biases = np.random.rand(layer2_numOfNeurons)\n",
    "l3_biases = np.random.rand(layer3_numOfNeurons)\n",
    "\n",
    "\n",
    "NN_weights = [l1_weights,l2_weights,l3_weights]\n",
    "NN_biases = [l1_biases,l2_biases,l3_biases]\n",
    "\n",
    "a_matrix = [0,0,0,0]           # contains a0,a1,a2,a3 i.e activations of different layers ; Note : a0 = input_image\n",
    "z_matrix = [0,0,0]             # z1 , z2 , z3 => weights*activation + bias of layer1,2,3"
   ]
  },
  {
   "cell_type": "code",
   "execution_count": 8,
   "id": "835a215a-90cb-4a76-b22e-023a46cefcf2",
   "metadata": {},
   "outputs": [],
   "source": [
    "def relu(v):\n",
    "    return np.maximum(0,v)\n",
    "\n",
    "def sigmoid(v):\n",
    "    return 1/(1+np.exp(-1*v))\n",
    "\n",
    "def softmax(v):\n",
    "    return ( np.exp(v) ) / np.sum( np.exp(v) )\n"
   ]
  },
  {
   "cell_type": "code",
   "execution_count": 9,
   "id": "8e1f986c-c381-4b72-86cf-68fcafe4ecdb",
   "metadata": {},
   "outputs": [],
   "source": [
    "def layer(a_prev,layer_index):                  #Note the indexing in this program has been started with 0 \n",
    "                                                #Hence , 0 is the first layer\n",
    "    z = np.matmul(a_prev,NN_weights[layer_index]) + NN_biases[layer_index]   # This is basically the z = WX + b part\n",
    "\n",
    "    z_matrix[layer_index] = z.reshape(1,-1)\n",
    "    \n",
    "    if layer_index == numOfLayers - 1:\n",
    "        a = softmax(z)                            # In the last layer we are using softmax activation function\n",
    "    else: \n",
    "        a = relu(z)                               # In other layers , we are using relu activation function\n",
    "\n",
    "    return a"
   ]
  },
  {
   "cell_type": "code",
   "execution_count": 10,
   "id": "2b6836ed-a32b-48e2-8c3b-89c1e285c4fa",
   "metadata": {},
   "outputs": [],
   "source": [
    "def forward_prop(x):\n",
    "    \n",
    "    a = x\n",
    "    a_matrix[0] = x.reshape(1,-1)\n",
    "    \n",
    "    for i in range(numOfLayers):\n",
    "        a = layer(a,i)\n",
    "        a_matrix[i+1] = a.reshape(1,-1)\n",
    "\n",
    "    "
   ]
  },
  {
   "cell_type": "code",
   "execution_count": 11,
   "id": "0b118d5e-4647-47c2-9c16-37b4653e0e67",
   "metadata": {},
   "outputs": [],
   "source": [
    "def loss(y,y_hat):\n",
    "    loss = 0\n",
    "    for i,val in enumerate(y_hat):\n",
    "        loss += y[i] * np.log(val)\n",
    "    loss = loss * -1\n",
    "    return loss"
   ]
  },
  {
   "cell_type": "code",
   "execution_count": 12,
   "id": "ae4d3169-5580-454d-9597-44fafcb6d02d",
   "metadata": {},
   "outputs": [],
   "source": [
    "def relu_differentiation(z):\n",
    "    return (z>0).astype(int)"
   ]
  },
  {
   "cell_type": "code",
   "execution_count": 13,
   "id": "01c595c0-bf79-4f92-a4db-21bb68bb8638",
   "metadata": {},
   "outputs": [],
   "source": [
    "def calc_and_update_gradients(activation_matrix,y,alpha):\n",
    "\n",
    "    \n",
    "    # for i,act in enumerate(activation_matrix):\n",
    "    #     print(act.shape)    \n",
    "\n",
    "    \n",
    "    global l1_weights,l2_weights,l3_weights\n",
    "    global NN_weights\n",
    "    \n",
    "    dL_dz3 = (activation_matrix[3] - y )\n",
    "    dL_dw3 = np.matmul( activation_matrix[2].T , dL_dz3 )\n",
    "    # dL_db3 = np.sum(dL_dz3)\n",
    "\n",
    "\n",
    "    dL_dz2 =  np.matmul(dL_dz3,l3_weights.T) * relu_differentiation(z_matrix[1]) \n",
    "    dL_dw2 =  np.matmul(activation_matrix[1].T,dL_dz2)\n",
    "    # dL_db2 =  np.sum(dL_dz2)\n",
    "\n",
    "    dL_dz1 =  np.matmul(dL_dz2,l2_weights.T) * relu_differentiation(z_matrix[0]) \n",
    "    dL_dw1 =  np.matmul(activation_matrix[0].T,dL_dz1)\n",
    "    # dL_db1 =  np.sum(dL_dz1)\n",
    "\n",
    "\n",
    "    l1_weights = l1_weights - alpha * dL_dw1\n",
    "    # l1_biases =  l1_biases - alpha * dL_db1\n",
    "    \n",
    "    l2_weights = l2_weights - alpha * dL_dw2\n",
    "    # l2_biases =  l2_biases - alpha * dL_db2\n",
    "    \n",
    "    l3_weights = l3_weights - alpha * dL_dw3\n",
    "    # l3_biases =  l3_biases - alpha * dL_db3\n",
    "\n",
    "\n",
    "    NN_weights = [l1_weights,l2_weights,l3_weights]\n",
    "    # NN_biases = [l1_biases,l2_biases,l3_biases]"
   ]
  },
  {
   "cell_type": "code",
   "execution_count": 14,
   "id": "0859cda2-f9a1-48e4-8357-9438dd80e24b",
   "metadata": {},
   "outputs": [],
   "source": [
    "def y_into_vector(y):\n",
    "    v = np.zeros(10)\n",
    "    v[y] = 1\n",
    "    return v.reshape(1,-1)"
   ]
  },
  {
   "cell_type": "code",
   "execution_count": 15,
   "id": "eb6ee043-e3c0-4aff-b934-22003398cdea",
   "metadata": {},
   "outputs": [],
   "source": [
    "def fit(x_train,y_train):\n",
    "    \n",
    "    numOfImages = x_train.shape[0]\n",
    "    \n",
    "    for i in range(numOfImages):\n",
    "        input_img = x_train[i].flatten()\n",
    "        forward_prop(input_img)\n",
    "        calc_and_update_gradients(a_matrix,y_into_vector(y_train[i]),0.01)"
   ]
  },
  {
   "cell_type": "code",
   "execution_count": 16,
   "id": "a7769512-e000-42be-9863-666bca992a85",
   "metadata": {},
   "outputs": [],
   "source": [
    "def predict(x):\n",
    "\n",
    "    numOfImages = x.shape[0]\n",
    "    pred = []\n",
    "\n",
    "    for i in range(numOfImages):\n",
    "        \n",
    "        forward_prop(x[i].flatten())\n",
    "\n",
    "        pred.append(a_matrix[numOfLayers])\n",
    "\n",
    "    # return np.array(pred)\n",
    "    return np.array([ np.argmax(p) for p in pred])\n",
    "    "
   ]
  },
  {
   "cell_type": "code",
   "execution_count": 17,
   "id": "ad18ae94-efa8-46dc-ae0c-e8d1b3d0d69c",
   "metadata": {},
   "outputs": [],
   "source": [
    "def accuracy_test(x,y):\n",
    "    \n",
    "    r = 0 \n",
    "    w = 0\n",
    "    w_ind = []\n",
    "        \n",
    "    our_model_pred = predict(x)\n",
    "        \n",
    "    # our_model_pred = [ np.argmax(pre) for pre in res]\n",
    "        \n",
    "    for i in range(y.shape[0]): \n",
    "        if our_model_pred[i] == y[i]:\n",
    "            r += 1\n",
    "        else:\n",
    "            w += 1\n",
    "            w_ind.append(i)\n",
    "\n",
    "    return (r*100)/(r+w)\n",
    "\n"
   ]
  },
  {
   "cell_type": "code",
   "execution_count": 18,
   "id": "8853fcf3-e64e-41a0-be82-73bf05440df2",
   "metadata": {},
   "outputs": [],
   "source": [
    "#THIS IS training\n",
    "# might take around 30 seconds , because for now training is done one by one image\n",
    "\n",
    "fit(x_train,y_train)                                "
   ]
  },
  {
   "cell_type": "code",
   "execution_count": 19,
   "id": "b48de9de-b268-4a7c-8797-a6803fc99046",
   "metadata": {},
   "outputs": [
    {
     "name": "stdout",
     "output_type": "stream",
     "text": [
      "(10, 28, 28)\n",
      "\n",
      "our prediction :  [3 5 3 6 1 7 2 8 6 9]\n",
      "\n",
      "actual value   :  [3 5 3 6 1 7 2 8 6 9]\n"
     ]
    }
   ],
   "source": [
    "img_sample = x_train[10:20]                          # Testing 10 images from index 10 to 20\n",
    "\n",
    "print(img_sample.shape)\n",
    "\n",
    "prediction_from_our_model = predict(img_sample)      # IMP , The argument i.e img_sample HaS to be a matrix of dimension n * 28 * 28\n",
    "\n",
    "print()\n",
    "print(\"our prediction : \",prediction_from_our_model)\n",
    "print()\n",
    "print(\"actual value   : \",y_train[10:20])"
   ]
  },
  {
   "cell_type": "code",
   "execution_count": 20,
   "id": "9417d9b5-8494-403a-a79c-823bd3eaae5c",
   "metadata": {},
   "outputs": [
    {
     "data": {
      "image/png": "[encoded data removed]",
      "text/plain": [
       "<Figure size 1000x100 with 10 Axes>"
      ]
     },
     "metadata": {},
     "output_type": "display_data"
    }
   ],
   "source": [
    "plt.figure(figsize=(10, 1))                            # showing 10 images of above examples\n",
    "for i,j in enumerate(range(10,20)):\n",
    "    plt.subplot(1,10,i+1)\n",
    "    plt.imshow(x_train[j],cmap = 'gray')"
   ]
  },
  {
   "cell_type": "code",
   "execution_count": 21,
   "id": "2759e901-cfb4-44da-aed8-1e7d5a6ad5e8",
   "metadata": {},
   "outputs": [
    {
     "name": "stdout",
     "output_type": "stream",
     "text": [
      "test set accuracy :  94.43\n"
     ]
    }
   ],
   "source": [
    "acc_on_test_set = accuracy_test(x_test,y_test)   # Here , we enter as arguments the set we want to see how our model does on\n",
    "\n",
    "print(\"test set accuracy : \",acc_on_test_set)    # first argument is the image matrix and second is our target vector\n"
   ]
  },
  {
   "cell_type": "code",
   "execution_count": 22,
   "id": "d2edb976-87f4-4e29-940a-52ec5e419164",
   "metadata": {},
   "outputs": [
    {
     "name": "stdout",
     "output_type": "stream",
     "text": [
      "train set accuracy :  94.33166666666666\n"
     ]
    }
   ],
   "source": [
    "acc_on_train_set = accuracy_test(x_train,y_train)    # might take around 15 - 17 seconds , as there are 60000 images to be predicted and evaluated\n",
    "\n",
    "print(\"train set accuracy : \",acc_on_train_set)"
   ]
  },
  {
   "cell_type": "code",
   "execution_count": null,
   "id": "ab6e0153-3e00-4b05-a8f0-587e1a07c818",
   "metadata": {},
   "outputs": [],
   "source": []
  }
 ],
 "metadata": {
  "kernelspec": {
   "display_name": "Python 3 (ipykernel)",
   "language": "python",
   "name": "python3"
  },
  "language_info": {
   "codemirror_mode": {
    "name": "ipython",
    "version": 3
   },
   "file_extension": ".py",
   "mimetype": "text/x-python",
   "name": "python",
   "nbconvert_exporter": "python",
   "pygments_lexer": "ipython3",
   "version": "3.11.4"
  }
 },
 "nbformat": 4,
 "nbformat_minor": 5
}
